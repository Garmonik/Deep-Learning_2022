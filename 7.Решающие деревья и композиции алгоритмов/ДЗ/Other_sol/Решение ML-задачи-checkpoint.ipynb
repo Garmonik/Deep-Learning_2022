{
 "cells": [
  {
   "cell_type": "code",
   "execution_count": 1,
   "id": "6417a2d7",
   "metadata": {},
   "outputs": [],
   "source": [
    "import pandas as pd\n",
    "import numpy as np\n",
    "from matplotlib import pyplot as plt\n",
    "from sklearn.preprocessing import StandardScaler\n",
    "from sklearn.metrics import roc_auc_score, roc_curve\n",
    "scaler = StandardScaler()"
   ]
  },
  {
   "cell_type": "code",
   "execution_count": 2,
   "id": "b7bde54b",
   "metadata": {},
   "outputs": [],
   "source": [
    "data = pd.read_csv('C:/Users/Михаил/Downloads/train.csv')"
   ]
  },
  {
   "cell_type": "code",
   "execution_count": 3,
   "id": "9143be48",
   "metadata": {
    "scrolled": true
   },
   "outputs": [
    {
     "data": {
      "text/html": [
       "<div>\n",
       "<style scoped>\n",
       "    .dataframe tbody tr th:only-of-type {\n",
       "        vertical-align: middle;\n",
       "    }\n",
       "\n",
       "    .dataframe tbody tr th {\n",
       "        vertical-align: top;\n",
       "    }\n",
       "\n",
       "    .dataframe thead th {\n",
       "        text-align: right;\n",
       "    }\n",
       "</style>\n",
       "<table border=\"1\" class=\"dataframe\">\n",
       "  <thead>\n",
       "    <tr style=\"text-align: right;\">\n",
       "      <th></th>\n",
       "      <th>ClientPeriod</th>\n",
       "      <th>MonthlySpending</th>\n",
       "      <th>TotalSpent</th>\n",
       "      <th>Sex</th>\n",
       "      <th>IsSeniorCitizen</th>\n",
       "      <th>HasPartner</th>\n",
       "      <th>HasChild</th>\n",
       "      <th>HasPhoneService</th>\n",
       "      <th>HasMultiplePhoneNumbers</th>\n",
       "      <th>HasInternetService</th>\n",
       "      <th>HasOnlineSecurityService</th>\n",
       "      <th>HasOnlineBackup</th>\n",
       "      <th>HasDeviceProtection</th>\n",
       "      <th>HasTechSupportAccess</th>\n",
       "      <th>HasOnlineTV</th>\n",
       "      <th>HasMovieSubscription</th>\n",
       "      <th>HasContractPhone</th>\n",
       "      <th>IsBillingPaperless</th>\n",
       "      <th>PaymentMethod</th>\n",
       "      <th>Churn</th>\n",
       "    </tr>\n",
       "  </thead>\n",
       "  <tbody>\n",
       "    <tr>\n",
       "      <th>0</th>\n",
       "      <td>55</td>\n",
       "      <td>19.50</td>\n",
       "      <td>1026.35</td>\n",
       "      <td>Male</td>\n",
       "      <td>0</td>\n",
       "      <td>Yes</td>\n",
       "      <td>Yes</td>\n",
       "      <td>Yes</td>\n",
       "      <td>No</td>\n",
       "      <td>No</td>\n",
       "      <td>No internet service</td>\n",
       "      <td>No internet service</td>\n",
       "      <td>No internet service</td>\n",
       "      <td>No internet service</td>\n",
       "      <td>No internet service</td>\n",
       "      <td>No internet service</td>\n",
       "      <td>One year</td>\n",
       "      <td>No</td>\n",
       "      <td>Mailed check</td>\n",
       "      <td>0</td>\n",
       "    </tr>\n",
       "    <tr>\n",
       "      <th>1</th>\n",
       "      <td>72</td>\n",
       "      <td>25.85</td>\n",
       "      <td>1872.2</td>\n",
       "      <td>Male</td>\n",
       "      <td>0</td>\n",
       "      <td>Yes</td>\n",
       "      <td>No</td>\n",
       "      <td>Yes</td>\n",
       "      <td>Yes</td>\n",
       "      <td>No</td>\n",
       "      <td>No internet service</td>\n",
       "      <td>No internet service</td>\n",
       "      <td>No internet service</td>\n",
       "      <td>No internet service</td>\n",
       "      <td>No internet service</td>\n",
       "      <td>No internet service</td>\n",
       "      <td>Two year</td>\n",
       "      <td>No</td>\n",
       "      <td>Credit card (automatic)</td>\n",
       "      <td>0</td>\n",
       "    </tr>\n",
       "    <tr>\n",
       "      <th>2</th>\n",
       "      <td>1</td>\n",
       "      <td>75.90</td>\n",
       "      <td>75.9</td>\n",
       "      <td>Male</td>\n",
       "      <td>0</td>\n",
       "      <td>No</td>\n",
       "      <td>No</td>\n",
       "      <td>Yes</td>\n",
       "      <td>No</td>\n",
       "      <td>Fiber optic</td>\n",
       "      <td>No</td>\n",
       "      <td>No</td>\n",
       "      <td>No</td>\n",
       "      <td>Yes</td>\n",
       "      <td>No</td>\n",
       "      <td>No</td>\n",
       "      <td>Month-to-month</td>\n",
       "      <td>Yes</td>\n",
       "      <td>Electronic check</td>\n",
       "      <td>1</td>\n",
       "    </tr>\n",
       "    <tr>\n",
       "      <th>3</th>\n",
       "      <td>32</td>\n",
       "      <td>79.30</td>\n",
       "      <td>2570</td>\n",
       "      <td>Female</td>\n",
       "      <td>1</td>\n",
       "      <td>Yes</td>\n",
       "      <td>No</td>\n",
       "      <td>Yes</td>\n",
       "      <td>Yes</td>\n",
       "      <td>Fiber optic</td>\n",
       "      <td>No</td>\n",
       "      <td>No</td>\n",
       "      <td>Yes</td>\n",
       "      <td>No</td>\n",
       "      <td>No</td>\n",
       "      <td>No</td>\n",
       "      <td>Month-to-month</td>\n",
       "      <td>No</td>\n",
       "      <td>Mailed check</td>\n",
       "      <td>0</td>\n",
       "    </tr>\n",
       "    <tr>\n",
       "      <th>4</th>\n",
       "      <td>60</td>\n",
       "      <td>115.25</td>\n",
       "      <td>6758.45</td>\n",
       "      <td>Female</td>\n",
       "      <td>0</td>\n",
       "      <td>Yes</td>\n",
       "      <td>Yes</td>\n",
       "      <td>Yes</td>\n",
       "      <td>Yes</td>\n",
       "      <td>Fiber optic</td>\n",
       "      <td>Yes</td>\n",
       "      <td>Yes</td>\n",
       "      <td>Yes</td>\n",
       "      <td>Yes</td>\n",
       "      <td>Yes</td>\n",
       "      <td>Yes</td>\n",
       "      <td>Two year</td>\n",
       "      <td>No</td>\n",
       "      <td>Credit card (automatic)</td>\n",
       "      <td>0</td>\n",
       "    </tr>\n",
       "  </tbody>\n",
       "</table>\n",
       "</div>"
      ],
      "text/plain": [
       "   ClientPeriod  MonthlySpending TotalSpent     Sex  IsSeniorCitizen  \\\n",
       "0            55            19.50    1026.35    Male                0   \n",
       "1            72            25.85     1872.2    Male                0   \n",
       "2             1            75.90       75.9    Male                0   \n",
       "3            32            79.30       2570  Female                1   \n",
       "4            60           115.25    6758.45  Female                0   \n",
       "\n",
       "  HasPartner HasChild HasPhoneService HasMultiplePhoneNumbers  \\\n",
       "0        Yes      Yes             Yes                      No   \n",
       "1        Yes       No             Yes                     Yes   \n",
       "2         No       No             Yes                      No   \n",
       "3        Yes       No             Yes                     Yes   \n",
       "4        Yes      Yes             Yes                     Yes   \n",
       "\n",
       "  HasInternetService HasOnlineSecurityService      HasOnlineBackup  \\\n",
       "0                 No      No internet service  No internet service   \n",
       "1                 No      No internet service  No internet service   \n",
       "2        Fiber optic                       No                   No   \n",
       "3        Fiber optic                       No                   No   \n",
       "4        Fiber optic                      Yes                  Yes   \n",
       "\n",
       "   HasDeviceProtection HasTechSupportAccess          HasOnlineTV  \\\n",
       "0  No internet service  No internet service  No internet service   \n",
       "1  No internet service  No internet service  No internet service   \n",
       "2                   No                  Yes                   No   \n",
       "3                  Yes                   No                   No   \n",
       "4                  Yes                  Yes                  Yes   \n",
       "\n",
       "  HasMovieSubscription HasContractPhone IsBillingPaperless  \\\n",
       "0  No internet service         One year                 No   \n",
       "1  No internet service         Two year                 No   \n",
       "2                   No   Month-to-month                Yes   \n",
       "3                   No   Month-to-month                 No   \n",
       "4                  Yes         Two year                 No   \n",
       "\n",
       "             PaymentMethod  Churn  \n",
       "0             Mailed check      0  \n",
       "1  Credit card (automatic)      0  \n",
       "2         Electronic check      1  \n",
       "3             Mailed check      0  \n",
       "4  Credit card (automatic)      0  "
      ]
     },
     "execution_count": 3,
     "metadata": {},
     "output_type": "execute_result"
    }
   ],
   "source": [
    "data.head()\n"
   ]
  },
  {
   "cell_type": "code",
   "execution_count": 4,
   "id": "baec71be",
   "metadata": {
    "scrolled": true
   },
   "outputs": [
    {
     "data": {
      "text/html": [
       "<div>\n",
       "<style scoped>\n",
       "    .dataframe tbody tr th:only-of-type {\n",
       "        vertical-align: middle;\n",
       "    }\n",
       "\n",
       "    .dataframe tbody tr th {\n",
       "        vertical-align: top;\n",
       "    }\n",
       "\n",
       "    .dataframe thead th {\n",
       "        text-align: right;\n",
       "    }\n",
       "</style>\n",
       "<table border=\"1\" class=\"dataframe\">\n",
       "  <thead>\n",
       "    <tr style=\"text-align: right;\">\n",
       "      <th></th>\n",
       "      <th>ClientPeriod</th>\n",
       "      <th>MonthlySpending</th>\n",
       "      <th>TotalSpent</th>\n",
       "      <th>Sex</th>\n",
       "      <th>IsSeniorCitizen</th>\n",
       "      <th>HasPartner</th>\n",
       "      <th>HasChild</th>\n",
       "      <th>HasPhoneService</th>\n",
       "      <th>HasMultiplePhoneNumbers</th>\n",
       "      <th>HasInternetService</th>\n",
       "      <th>HasOnlineSecurityService</th>\n",
       "      <th>HasOnlineBackup</th>\n",
       "      <th>HasDeviceProtection</th>\n",
       "      <th>HasTechSupportAccess</th>\n",
       "      <th>HasOnlineTV</th>\n",
       "      <th>HasMovieSubscription</th>\n",
       "      <th>HasContractPhone</th>\n",
       "      <th>IsBillingPaperless</th>\n",
       "      <th>PaymentMethod</th>\n",
       "      <th>Churn</th>\n",
       "    </tr>\n",
       "  </thead>\n",
       "  <tbody>\n",
       "    <tr>\n",
       "      <th>1048</th>\n",
       "      <td>0</td>\n",
       "      <td>25.75</td>\n",
       "      <td></td>\n",
       "      <td>Male</td>\n",
       "      <td>0</td>\n",
       "      <td>Yes</td>\n",
       "      <td>Yes</td>\n",
       "      <td>Yes</td>\n",
       "      <td>Yes</td>\n",
       "      <td>No</td>\n",
       "      <td>No internet service</td>\n",
       "      <td>No internet service</td>\n",
       "      <td>No internet service</td>\n",
       "      <td>No internet service</td>\n",
       "      <td>No internet service</td>\n",
       "      <td>No internet service</td>\n",
       "      <td>Two year</td>\n",
       "      <td>No</td>\n",
       "      <td>Mailed check</td>\n",
       "      <td>0</td>\n",
       "    </tr>\n",
       "    <tr>\n",
       "      <th>1707</th>\n",
       "      <td>0</td>\n",
       "      <td>73.35</td>\n",
       "      <td></td>\n",
       "      <td>Female</td>\n",
       "      <td>0</td>\n",
       "      <td>Yes</td>\n",
       "      <td>Yes</td>\n",
       "      <td>Yes</td>\n",
       "      <td>Yes</td>\n",
       "      <td>DSL</td>\n",
       "      <td>No</td>\n",
       "      <td>Yes</td>\n",
       "      <td>Yes</td>\n",
       "      <td>Yes</td>\n",
       "      <td>Yes</td>\n",
       "      <td>No</td>\n",
       "      <td>Two year</td>\n",
       "      <td>No</td>\n",
       "      <td>Mailed check</td>\n",
       "      <td>0</td>\n",
       "    </tr>\n",
       "    <tr>\n",
       "      <th>2543</th>\n",
       "      <td>0</td>\n",
       "      <td>19.70</td>\n",
       "      <td></td>\n",
       "      <td>Male</td>\n",
       "      <td>0</td>\n",
       "      <td>Yes</td>\n",
       "      <td>Yes</td>\n",
       "      <td>Yes</td>\n",
       "      <td>No</td>\n",
       "      <td>No</td>\n",
       "      <td>No internet service</td>\n",
       "      <td>No internet service</td>\n",
       "      <td>No internet service</td>\n",
       "      <td>No internet service</td>\n",
       "      <td>No internet service</td>\n",
       "      <td>No internet service</td>\n",
       "      <td>One year</td>\n",
       "      <td>Yes</td>\n",
       "      <td>Mailed check</td>\n",
       "      <td>0</td>\n",
       "    </tr>\n",
       "    <tr>\n",
       "      <th>3078</th>\n",
       "      <td>0</td>\n",
       "      <td>80.85</td>\n",
       "      <td></td>\n",
       "      <td>Female</td>\n",
       "      <td>0</td>\n",
       "      <td>Yes</td>\n",
       "      <td>Yes</td>\n",
       "      <td>Yes</td>\n",
       "      <td>No</td>\n",
       "      <td>DSL</td>\n",
       "      <td>Yes</td>\n",
       "      <td>Yes</td>\n",
       "      <td>Yes</td>\n",
       "      <td>No</td>\n",
       "      <td>Yes</td>\n",
       "      <td>Yes</td>\n",
       "      <td>Two year</td>\n",
       "      <td>No</td>\n",
       "      <td>Mailed check</td>\n",
       "      <td>0</td>\n",
       "    </tr>\n",
       "    <tr>\n",
       "      <th>3697</th>\n",
       "      <td>0</td>\n",
       "      <td>20.00</td>\n",
       "      <td></td>\n",
       "      <td>Female</td>\n",
       "      <td>0</td>\n",
       "      <td>Yes</td>\n",
       "      <td>Yes</td>\n",
       "      <td>Yes</td>\n",
       "      <td>No</td>\n",
       "      <td>No</td>\n",
       "      <td>No internet service</td>\n",
       "      <td>No internet service</td>\n",
       "      <td>No internet service</td>\n",
       "      <td>No internet service</td>\n",
       "      <td>No internet service</td>\n",
       "      <td>No internet service</td>\n",
       "      <td>Two year</td>\n",
       "      <td>No</td>\n",
       "      <td>Mailed check</td>\n",
       "      <td>0</td>\n",
       "    </tr>\n",
       "    <tr>\n",
       "      <th>4002</th>\n",
       "      <td>0</td>\n",
       "      <td>61.90</td>\n",
       "      <td></td>\n",
       "      <td>Male</td>\n",
       "      <td>0</td>\n",
       "      <td>No</td>\n",
       "      <td>Yes</td>\n",
       "      <td>Yes</td>\n",
       "      <td>Yes</td>\n",
       "      <td>DSL</td>\n",
       "      <td>Yes</td>\n",
       "      <td>Yes</td>\n",
       "      <td>No</td>\n",
       "      <td>Yes</td>\n",
       "      <td>No</td>\n",
       "      <td>No</td>\n",
       "      <td>Two year</td>\n",
       "      <td>Yes</td>\n",
       "      <td>Bank transfer (automatic)</td>\n",
       "      <td>0</td>\n",
       "    </tr>\n",
       "    <tr>\n",
       "      <th>4326</th>\n",
       "      <td>0</td>\n",
       "      <td>25.35</td>\n",
       "      <td></td>\n",
       "      <td>Male</td>\n",
       "      <td>0</td>\n",
       "      <td>Yes</td>\n",
       "      <td>Yes</td>\n",
       "      <td>Yes</td>\n",
       "      <td>Yes</td>\n",
       "      <td>No</td>\n",
       "      <td>No internet service</td>\n",
       "      <td>No internet service</td>\n",
       "      <td>No internet service</td>\n",
       "      <td>No internet service</td>\n",
       "      <td>No internet service</td>\n",
       "      <td>No internet service</td>\n",
       "      <td>Two year</td>\n",
       "      <td>No</td>\n",
       "      <td>Mailed check</td>\n",
       "      <td>0</td>\n",
       "    </tr>\n",
       "    <tr>\n",
       "      <th>4551</th>\n",
       "      <td>0</td>\n",
       "      <td>52.55</td>\n",
       "      <td></td>\n",
       "      <td>Female</td>\n",
       "      <td>0</td>\n",
       "      <td>Yes</td>\n",
       "      <td>Yes</td>\n",
       "      <td>No</td>\n",
       "      <td>No phone service</td>\n",
       "      <td>DSL</td>\n",
       "      <td>Yes</td>\n",
       "      <td>No</td>\n",
       "      <td>Yes</td>\n",
       "      <td>Yes</td>\n",
       "      <td>Yes</td>\n",
       "      <td>No</td>\n",
       "      <td>Two year</td>\n",
       "      <td>Yes</td>\n",
       "      <td>Bank transfer (automatic)</td>\n",
       "      <td>0</td>\n",
       "    </tr>\n",
       "    <tr>\n",
       "      <th>4598</th>\n",
       "      <td>0</td>\n",
       "      <td>56.05</td>\n",
       "      <td></td>\n",
       "      <td>Female</td>\n",
       "      <td>0</td>\n",
       "      <td>Yes</td>\n",
       "      <td>Yes</td>\n",
       "      <td>No</td>\n",
       "      <td>No phone service</td>\n",
       "      <td>DSL</td>\n",
       "      <td>Yes</td>\n",
       "      <td>Yes</td>\n",
       "      <td>Yes</td>\n",
       "      <td>Yes</td>\n",
       "      <td>Yes</td>\n",
       "      <td>No</td>\n",
       "      <td>Two year</td>\n",
       "      <td>No</td>\n",
       "      <td>Credit card (automatic)</td>\n",
       "      <td>0</td>\n",
       "    </tr>\n",
       "  </tbody>\n",
       "</table>\n",
       "</div>"
      ],
      "text/plain": [
       "      ClientPeriod  MonthlySpending TotalSpent     Sex  IsSeniorCitizen  \\\n",
       "1048             0            25.75               Male                0   \n",
       "1707             0            73.35             Female                0   \n",
       "2543             0            19.70               Male                0   \n",
       "3078             0            80.85             Female                0   \n",
       "3697             0            20.00             Female                0   \n",
       "4002             0            61.90               Male                0   \n",
       "4326             0            25.35               Male                0   \n",
       "4551             0            52.55             Female                0   \n",
       "4598             0            56.05             Female                0   \n",
       "\n",
       "     HasPartner HasChild HasPhoneService HasMultiplePhoneNumbers  \\\n",
       "1048        Yes      Yes             Yes                     Yes   \n",
       "1707        Yes      Yes             Yes                     Yes   \n",
       "2543        Yes      Yes             Yes                      No   \n",
       "3078        Yes      Yes             Yes                      No   \n",
       "3697        Yes      Yes             Yes                      No   \n",
       "4002         No      Yes             Yes                     Yes   \n",
       "4326        Yes      Yes             Yes                     Yes   \n",
       "4551        Yes      Yes              No        No phone service   \n",
       "4598        Yes      Yes              No        No phone service   \n",
       "\n",
       "     HasInternetService HasOnlineSecurityService      HasOnlineBackup  \\\n",
       "1048                 No      No internet service  No internet service   \n",
       "1707                DSL                       No                  Yes   \n",
       "2543                 No      No internet service  No internet service   \n",
       "3078                DSL                      Yes                  Yes   \n",
       "3697                 No      No internet service  No internet service   \n",
       "4002                DSL                      Yes                  Yes   \n",
       "4326                 No      No internet service  No internet service   \n",
       "4551                DSL                      Yes                   No   \n",
       "4598                DSL                      Yes                  Yes   \n",
       "\n",
       "      HasDeviceProtection HasTechSupportAccess          HasOnlineTV  \\\n",
       "1048  No internet service  No internet service  No internet service   \n",
       "1707                  Yes                  Yes                  Yes   \n",
       "2543  No internet service  No internet service  No internet service   \n",
       "3078                  Yes                   No                  Yes   \n",
       "3697  No internet service  No internet service  No internet service   \n",
       "4002                   No                  Yes                   No   \n",
       "4326  No internet service  No internet service  No internet service   \n",
       "4551                  Yes                  Yes                  Yes   \n",
       "4598                  Yes                  Yes                  Yes   \n",
       "\n",
       "     HasMovieSubscription HasContractPhone IsBillingPaperless  \\\n",
       "1048  No internet service         Two year                 No   \n",
       "1707                   No         Two year                 No   \n",
       "2543  No internet service         One year                Yes   \n",
       "3078                  Yes         Two year                 No   \n",
       "3697  No internet service         Two year                 No   \n",
       "4002                   No         Two year                Yes   \n",
       "4326  No internet service         Two year                 No   \n",
       "4551                   No         Two year                Yes   \n",
       "4598                   No         Two year                 No   \n",
       "\n",
       "                  PaymentMethod  Churn  \n",
       "1048               Mailed check      0  \n",
       "1707               Mailed check      0  \n",
       "2543               Mailed check      0  \n",
       "3078               Mailed check      0  \n",
       "3697               Mailed check      0  \n",
       "4002  Bank transfer (automatic)      0  \n",
       "4326               Mailed check      0  \n",
       "4551  Bank transfer (automatic)      0  \n",
       "4598    Credit card (automatic)      0  "
      ]
     },
     "execution_count": 4,
     "metadata": {},
     "output_type": "execute_result"
    }
   ],
   "source": [
    "data[data['TotalSpent'] == ' ']"
   ]
  },
  {
   "cell_type": "code",
   "execution_count": 5,
   "id": "dbb05ba8",
   "metadata": {},
   "outputs": [],
   "source": [
    "data['TotalSpent'] = data['TotalSpent'].replace(' ')"
   ]
  },
  {
   "cell_type": "code",
   "execution_count": 6,
   "id": "43ad157d",
   "metadata": {},
   "outputs": [],
   "source": [
    "data['TotalSpent'] = data['TotalSpent'].astype('float')"
   ]
  },
  {
   "cell_type": "code",
   "execution_count": 7,
   "id": "366b9241",
   "metadata": {},
   "outputs": [],
   "source": [
    "# Числовые признаки\n",
    "num_cols = [\n",
    "    'ClientPeriod',\n",
    "    'MonthlySpending',\n",
    "    'TotalSpent'\n",
    "]\n",
    "\n",
    "# Категориальные признаки\n",
    "cat_cols = [\n",
    "    'Sex',\n",
    "    'IsSeniorCitizen',\n",
    "    'HasPartner',\n",
    "    'HasChild',\n",
    "    'HasPhoneService',\n",
    "    'HasMultiplePhoneNumbers',\n",
    "    'HasInternetService',\n",
    "    'HasOnlineSecurityService',\n",
    "    'HasOnlineBackup',\n",
    "    'HasDeviceProtection',\n",
    "    'HasTechSupportAccess',\n",
    "    'HasOnlineTV',\n",
    "    'HasMovieSubscription',\n",
    "    'HasContractPhone',\n",
    "    'IsBillingPaperless',\n",
    "    'PaymentMethod'\n",
    "]\n",
    "\n",
    "feature_cols = num_cols + cat_cols\n",
    "target_col = 'Churn'"
   ]
  },
  {
   "cell_type": "code",
   "execution_count": 8,
   "id": "9e373699",
   "metadata": {},
   "outputs": [
    {
     "name": "stdout",
     "output_type": "stream",
     "text": [
      "ClientPeriod\n",
      "False    5282\n",
      "Name: ClientPeriod, dtype: int64\n",
      " \n",
      "MonthlySpending\n",
      "False    5282\n",
      "Name: MonthlySpending, dtype: int64\n",
      " \n",
      "TotalSpent\n",
      "False    5282\n",
      "Name: TotalSpent, dtype: int64\n",
      " \n",
      "Sex\n",
      "False    5282\n",
      "Name: Sex, dtype: int64\n",
      " \n",
      "IsSeniorCitizen\n",
      "False    5282\n",
      "Name: IsSeniorCitizen, dtype: int64\n",
      " \n",
      "HasPartner\n",
      "False    5282\n",
      "Name: HasPartner, dtype: int64\n",
      " \n",
      "HasChild\n",
      "False    5282\n",
      "Name: HasChild, dtype: int64\n",
      " \n",
      "HasPhoneService\n",
      "False    5282\n",
      "Name: HasPhoneService, dtype: int64\n",
      " \n",
      "HasMultiplePhoneNumbers\n",
      "False    5282\n",
      "Name: HasMultiplePhoneNumbers, dtype: int64\n",
      " \n",
      "HasInternetService\n",
      "False    5282\n",
      "Name: HasInternetService, dtype: int64\n",
      " \n",
      "HasOnlineSecurityService\n",
      "False    5282\n",
      "Name: HasOnlineSecurityService, dtype: int64\n",
      " \n",
      "HasOnlineBackup\n",
      "False    5282\n",
      "Name: HasOnlineBackup, dtype: int64\n",
      " \n",
      "HasDeviceProtection\n",
      "False    5282\n",
      "Name: HasDeviceProtection, dtype: int64\n",
      " \n",
      "HasTechSupportAccess\n",
      "False    5282\n",
      "Name: HasTechSupportAccess, dtype: int64\n",
      " \n",
      "HasOnlineTV\n",
      "False    5282\n",
      "Name: HasOnlineTV, dtype: int64\n",
      " \n",
      "HasMovieSubscription\n",
      "False    5282\n",
      "Name: HasMovieSubscription, dtype: int64\n",
      " \n",
      "HasContractPhone\n",
      "False    5282\n",
      "Name: HasContractPhone, dtype: int64\n",
      " \n",
      "IsBillingPaperless\n",
      "False    5282\n",
      "Name: IsBillingPaperless, dtype: int64\n",
      " \n",
      "PaymentMethod\n",
      "False    5282\n",
      "Name: PaymentMethod, dtype: int64\n",
      " \n",
      "Churn\n",
      "False    5282\n",
      "Name: Churn, dtype: int64\n",
      " \n"
     ]
    }
   ],
   "source": [
    "missing_data = data.isnull()\n",
    "for column in missing_data.columns.values.tolist():\n",
    "    print(column)\n",
    "    print(missing_data[column].value_counts())\n",
    "    print(\" \")"
   ]
  },
  {
   "cell_type": "code",
   "execution_count": 9,
   "id": "507aa043",
   "metadata": {},
   "outputs": [
    {
     "data": {
      "text/plain": [
       "ClientPeriod                0\n",
       "MonthlySpending             0\n",
       "TotalSpent                  0\n",
       "Sex                         0\n",
       "IsSeniorCitizen             0\n",
       "HasPartner                  0\n",
       "HasChild                    0\n",
       "HasPhoneService             0\n",
       "HasMultiplePhoneNumbers     0\n",
       "HasInternetService          0\n",
       "HasOnlineSecurityService    0\n",
       "HasOnlineBackup             0\n",
       "HasDeviceProtection         0\n",
       "HasTechSupportAccess        0\n",
       "HasOnlineTV                 0\n",
       "HasMovieSubscription        0\n",
       "HasContractPhone            0\n",
       "IsBillingPaperless          0\n",
       "PaymentMethod               0\n",
       "Churn                       0\n",
       "dtype: int64"
      ]
     },
     "execution_count": 9,
     "metadata": {},
     "output_type": "execute_result"
    }
   ],
   "source": [
    "data.isnull().sum()"
   ]
  },
  {
   "cell_type": "code",
   "execution_count": 10,
   "id": "b1dd9d05",
   "metadata": {
    "scrolled": false
   },
   "outputs": [
    {
     "name": "stdout",
     "output_type": "stream",
     "text": [
      "<class 'pandas.core.frame.DataFrame'>\n",
      "RangeIndex: 5282 entries, 0 to 5281\n",
      "Data columns (total 20 columns):\n",
      " #   Column                    Non-Null Count  Dtype  \n",
      "---  ------                    --------------  -----  \n",
      " 0   ClientPeriod              5282 non-null   int64  \n",
      " 1   MonthlySpending           5282 non-null   float64\n",
      " 2   TotalSpent                5282 non-null   float64\n",
      " 3   Sex                       5282 non-null   object \n",
      " 4   IsSeniorCitizen           5282 non-null   int64  \n",
      " 5   HasPartner                5282 non-null   object \n",
      " 6   HasChild                  5282 non-null   object \n",
      " 7   HasPhoneService           5282 non-null   object \n",
      " 8   HasMultiplePhoneNumbers   5282 non-null   object \n",
      " 9   HasInternetService        5282 non-null   object \n",
      " 10  HasOnlineSecurityService  5282 non-null   object \n",
      " 11  HasOnlineBackup           5282 non-null   object \n",
      " 12  HasDeviceProtection       5282 non-null   object \n",
      " 13  HasTechSupportAccess      5282 non-null   object \n",
      " 14  HasOnlineTV               5282 non-null   object \n",
      " 15  HasMovieSubscription      5282 non-null   object \n",
      " 16  HasContractPhone          5282 non-null   object \n",
      " 17  IsBillingPaperless        5282 non-null   object \n",
      " 18  PaymentMethod             5282 non-null   object \n",
      " 19  Churn                     5282 non-null   int64  \n",
      "dtypes: float64(2), int64(3), object(15)\n",
      "memory usage: 825.4+ KB\n"
     ]
    }
   ],
   "source": [
    "data.info()"
   ]
  },
  {
   "cell_type": "code",
   "execution_count": 11,
   "id": "1a953fd4",
   "metadata": {
    "scrolled": true
   },
   "outputs": [
    {
     "data": {
      "text/plain": [
       "ClientPeriod                0\n",
       "MonthlySpending             0\n",
       "TotalSpent                  0\n",
       "Sex                         0\n",
       "IsSeniorCitizen             0\n",
       "HasPartner                  0\n",
       "HasChild                    0\n",
       "HasPhoneService             0\n",
       "HasMultiplePhoneNumbers     0\n",
       "HasInternetService          0\n",
       "HasOnlineSecurityService    0\n",
       "HasOnlineBackup             0\n",
       "HasDeviceProtection         0\n",
       "HasTechSupportAccess        0\n",
       "HasOnlineTV                 0\n",
       "HasMovieSubscription        0\n",
       "HasContractPhone            0\n",
       "IsBillingPaperless          0\n",
       "PaymentMethod               0\n",
       "Churn                       0\n",
       "dtype: int64"
      ]
     },
     "execution_count": 11,
     "metadata": {},
     "output_type": "execute_result"
    }
   ],
   "source": [
    "data.isna().sum(axis = 0)"
   ]
  },
  {
   "cell_type": "code",
   "execution_count": 12,
   "id": "9e59b870",
   "metadata": {
    "scrolled": true
   },
   "outputs": [
    {
     "data": {
      "text/plain": [
       "(array([1205.,  565.,  425.,  423.,  388.,  362.,  340.,  364.,  377.,\n",
       "         833.]),\n",
       " array([ 0. ,  7.2, 14.4, 21.6, 28.8, 36. , 43.2, 50.4, 57.6, 64.8, 72. ]),\n",
       " <BarContainer object of 10 artists>)"
      ]
     },
     "execution_count": 12,
     "metadata": {},
     "output_type": "execute_result"
    },
    {
     "data": {
      "image/png": "[encoded data removed]",
      "text/plain": [
       "<Figure size 432x288 with 1 Axes>"
      ]
     },
     "metadata": {
      "needs_background": "light"
     },
     "output_type": "display_data"
    }
   ],
   "source": [
    "plt.hist(data['ClientPeriod'])"
   ]
  },
  {
   "cell_type": "code",
   "execution_count": 13,
   "id": "993d52ee",
   "metadata": {
    "scrolled": true
   },
   "outputs": [
    {
     "data": {
      "text/plain": [
       "(array([1207.,  142.,  267.,  479.,  350.,  663.,  713.,  659.,  573.,\n",
       "         229.]),\n",
       " array([ 18.25,  28.3 ,  38.35,  48.4 ,  58.45,  68.5 ,  78.55,  88.6 ,\n",
       "         98.65, 108.7 , 118.75]),\n",
       " <BarContainer object of 10 artists>)"
      ]
     },
     "execution_count": 13,
     "metadata": {},
     "output_type": "execute_result"
    },
    {
     "data": {
      "image/png": "[encoded data removed]",
      "text/plain": [
       "<Figure size 432x288 with 1 Axes>"
      ]
     },
     "metadata": {
      "needs_background": "light"
     },
     "output_type": "display_data"
    }
   ],
   "source": [
    "plt.hist(data['MonthlySpending'])"
   ]
  },
  {
   "cell_type": "code",
   "execution_count": 14,
   "id": "6f9ac106",
   "metadata": {
    "scrolled": true
   },
   "outputs": [
    {
     "data": {
      "text/plain": [
       "(array([2040.,  901.,  504.,  392.,  344.,  309.,  305.,  223.,  172.,\n",
       "          92.]),\n",
       " array([  18.8,  885.4, 1752. , 2618.6, 3485.2, 4351.8, 5218.4, 6085. ,\n",
       "        6951.6, 7818.2, 8684.8]),\n",
       " <BarContainer object of 10 artists>)"
      ]
     },
     "execution_count": 14,
     "metadata": {},
     "output_type": "execute_result"
    },
    {
     "data": {
      "image/png": "[encoded data removed]",
      "text/plain": [
       "<Figure size 432x288 with 1 Axes>"
      ]
     },
     "metadata": {
      "needs_background": "light"
     },
     "output_type": "display_data"
    }
   ],
   "source": [
    "plt.hist(data['TotalSpent'])"
   ]
  },
  {
   "cell_type": "code",
   "execution_count": 15,
   "id": "4f57bc2c",
   "metadata": {
    "scrolled": true
   },
   "outputs": [
    {
     "name": "stdout",
     "output_type": "stream",
     "text": [
      "Male      2655\n",
      "Female    2627\n",
      "Name: Sex, dtype: int64\n",
      " \n",
      "0    0.840591\n",
      "1    0.159409\n",
      "Name: IsSeniorCitizen, dtype: float64\n",
      " \n",
      "No     0.512117\n",
      "Yes    0.487883\n",
      "Name: HasPartner, dtype: float64\n",
      " \n",
      "No     0.695949\n",
      "Yes    0.304051\n",
      "Name: HasChild, dtype: float64\n",
      " \n",
      "Yes    0.901363\n",
      "No     0.098637\n",
      "Name: HasPhoneService, dtype: float64\n",
      " \n",
      "No                  0.475388\n",
      "Yes                 0.425975\n",
      "No phone service    0.098637\n",
      "Name: HasMultiplePhoneNumbers, dtype: float64\n",
      " \n",
      "Fiber optic    0.443203\n",
      "DSL            0.340780\n",
      "No             0.216017\n",
      "Name: HasInternetService, dtype: float64\n",
      " \n",
      "No                     0.494510\n",
      "Yes                    0.289474\n",
      "No internet service    0.216017\n",
      "Name: HasOnlineSecurityService, dtype: float64\n",
      " \n",
      "No                     0.441499\n",
      "Yes                    0.342484\n",
      "No internet service    0.216017\n",
      "Name: HasOnlineBackup, dtype: float64\n",
      " \n",
      "No                     0.438660\n",
      "Yes                    0.345324\n",
      "No internet service    0.216017\n",
      "Name: HasDeviceProtection, dtype: float64\n",
      " \n",
      "No                     0.492995\n",
      "Yes                    0.290988\n",
      "No internet service    0.216017\n",
      "Name: HasTechSupportAccess, dtype: float64\n",
      " \n",
      "No                     0.397387\n",
      "Yes                    0.386596\n",
      "No internet service    0.216017\n",
      "Name: HasOnlineTV, dtype: float64\n",
      " \n",
      "No                     0.393980\n",
      "Yes                    0.390004\n",
      "No internet service    0.216017\n",
      "Name: HasMovieSubscription, dtype: float64\n",
      " \n",
      "Month-to-month    0.552821\n",
      "Two year          0.242332\n",
      "One year          0.204847\n",
      "Name: HasContractPhone, dtype: float64\n",
      " \n",
      "Yes    0.595986\n",
      "No     0.404014\n",
      "Name: IsBillingPaperless, dtype: float64\n",
      " \n",
      "Electronic check             0.338129\n",
      "Mailed check                 0.226051\n",
      "Bank transfer (automatic)    0.219424\n",
      "Credit card (automatic)      0.216395\n",
      "Name: PaymentMethod, dtype: float64\n",
      " \n"
     ]
    }
   ],
   "source": [
    "for col in range(len(cat_cols)):\n",
    "    print(data[cat_cols[col]].value_counts(col))\n",
    "    print(\" \")"
   ]
  },
  {
   "cell_type": "code",
   "execution_count": 16,
   "id": "e4b9125e",
   "metadata": {
    "scrolled": true
   },
   "outputs": [
    {
     "data": {
      "image/png": "[encoded data removed]",
      "text/plain": [
       "<Figure size 1440x1440 with 16 Axes>"
      ]
     },
     "metadata": {
      "needs_background": "light"
     },
     "output_type": "display_data"
    }
   ],
   "source": [
    "fig = plt.figure(figsize=(20, 20))\n",
    "for i in range(len(cat_cols)):\n",
    "    fig.add_subplot(4, 4, i + 1).set_title(cat_cols[i])\n",
    "    data[cat_cols[i]].value_counts().plot.bar()\n",
    "    plt.xticks(rotation=45, ha='right')\n",
    "    "
   ]
  },
  {
   "cell_type": "code",
   "execution_count": 17,
   "id": "0e4af316",
   "metadata": {
    "scrolled": true
   },
   "outputs": [
    {
     "data": {
      "text/plain": [
       "(array([3898.,    0.,    0.,    0.,    0.,    0.,    0.,    0.,    0.,\n",
       "        1384.]),\n",
       " array([0. , 0.1, 0.2, 0.3, 0.4, 0.5, 0.6, 0.7, 0.8, 0.9, 1. ]),\n",
       " <BarContainer object of 10 artists>)"
      ]
     },
     "execution_count": 17,
     "metadata": {},
     "output_type": "execute_result"
    },
    {
     "data": {
      "image/png": "[encoded data removed]",
      "text/plain": [
       "<Figure size 432x288 with 1 Axes>"
      ]
     },
     "metadata": {
      "needs_background": "light"
     },
     "output_type": "display_data"
    }
   ],
   "source": [
    "plt.hist(data['Churn'])"
   ]
  },
  {
   "cell_type": "code",
   "execution_count": 18,
   "id": "7612e6fc",
   "metadata": {
    "scrolled": true
   },
   "outputs": [
    {
     "data": {
      "text/plain": [
       "0    3898\n",
       "1    1384\n",
       "Name: Churn, dtype: int64"
      ]
     },
     "execution_count": 18,
     "metadata": {},
     "output_type": "execute_result"
    }
   ],
   "source": [
    "data['Churn'].value_counts()\n",
    "#Можно сказать, что классы сбалансированны"
   ]
  },
  {
   "cell_type": "code",
   "execution_count": 19,
   "id": "6dc3a6e5",
   "metadata": {},
   "outputs": [],
   "source": [
    "num_cols_scaled = pd.DataFrame(scaler.fit_transform(data[num_cols]))"
   ]
  },
  {
   "cell_type": "code",
   "execution_count": 20,
   "id": "a11a6f9d",
   "metadata": {},
   "outputs": [],
   "source": [
    "dummy_features = pd.get_dummies(data[cat_cols])"
   ]
  },
  {
   "cell_type": "code",
   "execution_count": 21,
   "id": "0d5c502b",
   "metadata": {
    "scrolled": true
   },
   "outputs": [
    {
     "data": {
      "text/html": [
       "<div>\n",
       "<style scoped>\n",
       "    .dataframe tbody tr th:only-of-type {\n",
       "        vertical-align: middle;\n",
       "    }\n",
       "\n",
       "    .dataframe tbody tr th {\n",
       "        vertical-align: top;\n",
       "    }\n",
       "\n",
       "    .dataframe thead th {\n",
       "        text-align: right;\n",
       "    }\n",
       "</style>\n",
       "<table border=\"1\" class=\"dataframe\">\n",
       "  <thead>\n",
       "    <tr style=\"text-align: right;\">\n",
       "      <th></th>\n",
       "      <th>0</th>\n",
       "      <th>1</th>\n",
       "      <th>2</th>\n",
       "      <th>IsSeniorCitizen</th>\n",
       "      <th>Sex_Female</th>\n",
       "      <th>Sex_Male</th>\n",
       "      <th>HasPartner_No</th>\n",
       "      <th>HasPartner_Yes</th>\n",
       "      <th>HasChild_No</th>\n",
       "      <th>HasChild_Yes</th>\n",
       "      <th>...</th>\n",
       "      <th>HasMovieSubscription_Yes</th>\n",
       "      <th>HasContractPhone_Month-to-month</th>\n",
       "      <th>HasContractPhone_One year</th>\n",
       "      <th>HasContractPhone_Two year</th>\n",
       "      <th>IsBillingPaperless_No</th>\n",
       "      <th>IsBillingPaperless_Yes</th>\n",
       "      <th>PaymentMethod_Bank transfer (automatic)</th>\n",
       "      <th>PaymentMethod_Credit card (automatic)</th>\n",
       "      <th>PaymentMethod_Electronic check</th>\n",
       "      <th>PaymentMethod_Mailed check</th>\n",
       "    </tr>\n",
       "  </thead>\n",
       "  <tbody>\n",
       "    <tr>\n",
       "      <th>0</th>\n",
       "      <td>0.920767</td>\n",
       "      <td>-1.505447</td>\n",
       "      <td>-0.557926</td>\n",
       "      <td>0</td>\n",
       "      <td>0</td>\n",
       "      <td>1</td>\n",
       "      <td>0</td>\n",
       "      <td>1</td>\n",
       "      <td>0</td>\n",
       "      <td>1</td>\n",
       "      <td>...</td>\n",
       "      <td>0</td>\n",
       "      <td>0</td>\n",
       "      <td>1</td>\n",
       "      <td>0</td>\n",
       "      <td>1</td>\n",
       "      <td>0</td>\n",
       "      <td>0</td>\n",
       "      <td>0</td>\n",
       "      <td>0</td>\n",
       "      <td>1</td>\n",
       "    </tr>\n",
       "    <tr>\n",
       "      <th>1</th>\n",
       "      <td>1.613288</td>\n",
       "      <td>-1.294998</td>\n",
       "      <td>-0.185082</td>\n",
       "      <td>0</td>\n",
       "      <td>0</td>\n",
       "      <td>1</td>\n",
       "      <td>0</td>\n",
       "      <td>1</td>\n",
       "      <td>1</td>\n",
       "      <td>0</td>\n",
       "      <td>...</td>\n",
       "      <td>0</td>\n",
       "      <td>0</td>\n",
       "      <td>0</td>\n",
       "      <td>1</td>\n",
       "      <td>1</td>\n",
       "      <td>0</td>\n",
       "      <td>0</td>\n",
       "      <td>1</td>\n",
       "      <td>0</td>\n",
       "      <td>0</td>\n",
       "    </tr>\n",
       "    <tr>\n",
       "      <th>2</th>\n",
       "      <td>-1.279005</td>\n",
       "      <td>0.363737</td>\n",
       "      <td>-0.976878</td>\n",
       "      <td>0</td>\n",
       "      <td>0</td>\n",
       "      <td>1</td>\n",
       "      <td>1</td>\n",
       "      <td>0</td>\n",
       "      <td>1</td>\n",
       "      <td>0</td>\n",
       "      <td>...</td>\n",
       "      <td>0</td>\n",
       "      <td>1</td>\n",
       "      <td>0</td>\n",
       "      <td>0</td>\n",
       "      <td>0</td>\n",
       "      <td>1</td>\n",
       "      <td>0</td>\n",
       "      <td>0</td>\n",
       "      <td>1</td>\n",
       "      <td>0</td>\n",
       "    </tr>\n",
       "    <tr>\n",
       "      <th>3</th>\n",
       "      <td>-0.016173</td>\n",
       "      <td>0.476418</td>\n",
       "      <td>0.122503</td>\n",
       "      <td>1</td>\n",
       "      <td>1</td>\n",
       "      <td>0</td>\n",
       "      <td>0</td>\n",
       "      <td>1</td>\n",
       "      <td>1</td>\n",
       "      <td>0</td>\n",
       "      <td>...</td>\n",
       "      <td>0</td>\n",
       "      <td>1</td>\n",
       "      <td>0</td>\n",
       "      <td>0</td>\n",
       "      <td>1</td>\n",
       "      <td>0</td>\n",
       "      <td>0</td>\n",
       "      <td>0</td>\n",
       "      <td>0</td>\n",
       "      <td>1</td>\n",
       "    </tr>\n",
       "    <tr>\n",
       "      <th>4</th>\n",
       "      <td>1.124450</td>\n",
       "      <td>1.667856</td>\n",
       "      <td>1.968742</td>\n",
       "      <td>0</td>\n",
       "      <td>1</td>\n",
       "      <td>0</td>\n",
       "      <td>0</td>\n",
       "      <td>1</td>\n",
       "      <td>0</td>\n",
       "      <td>1</td>\n",
       "      <td>...</td>\n",
       "      <td>1</td>\n",
       "      <td>0</td>\n",
       "      <td>0</td>\n",
       "      <td>1</td>\n",
       "      <td>1</td>\n",
       "      <td>0</td>\n",
       "      <td>0</td>\n",
       "      <td>1</td>\n",
       "      <td>0</td>\n",
       "      <td>0</td>\n",
       "    </tr>\n",
       "  </tbody>\n",
       "</table>\n",
       "<p>5 rows × 45 columns</p>\n",
       "</div>"
      ],
      "text/plain": [
       "          0         1         2  IsSeniorCitizen  Sex_Female  Sex_Male  \\\n",
       "0  0.920767 -1.505447 -0.557926                0           0         1   \n",
       "1  1.613288 -1.294998 -0.185082                0           0         1   \n",
       "2 -1.279005  0.363737 -0.976878                0           0         1   \n",
       "3 -0.016173  0.476418  0.122503                1           1         0   \n",
       "4  1.124450  1.667856  1.968742                0           1         0   \n",
       "\n",
       "   HasPartner_No  HasPartner_Yes  HasChild_No  HasChild_Yes  ...  \\\n",
       "0              0               1            0             1  ...   \n",
       "1              0               1            1             0  ...   \n",
       "2              1               0            1             0  ...   \n",
       "3              0               1            1             0  ...   \n",
       "4              0               1            0             1  ...   \n",
       "\n",
       "   HasMovieSubscription_Yes  HasContractPhone_Month-to-month  \\\n",
       "0                         0                                0   \n",
       "1                         0                                0   \n",
       "2                         0                                1   \n",
       "3                         0                                1   \n",
       "4                         1                                0   \n",
       "\n",
       "   HasContractPhone_One year  HasContractPhone_Two year  \\\n",
       "0                          1                          0   \n",
       "1                          0                          1   \n",
       "2                          0                          0   \n",
       "3                          0                          0   \n",
       "4                          0                          1   \n",
       "\n",
       "   IsBillingPaperless_No  IsBillingPaperless_Yes  \\\n",
       "0                      1                       0   \n",
       "1                      1                       0   \n",
       "2                      0                       1   \n",
       "3                      1                       0   \n",
       "4                      1                       0   \n",
       "\n",
       "   PaymentMethod_Bank transfer (automatic)  \\\n",
       "0                                        0   \n",
       "1                                        0   \n",
       "2                                        0   \n",
       "3                                        0   \n",
       "4                                        0   \n",
       "\n",
       "   PaymentMethod_Credit card (automatic)  PaymentMethod_Electronic check  \\\n",
       "0                                      0                               0   \n",
       "1                                      1                               0   \n",
       "2                                      0                               1   \n",
       "3                                      0                               0   \n",
       "4                                      1                               0   \n",
       "\n",
       "   PaymentMethod_Mailed check  \n",
       "0                           1  \n",
       "1                           0  \n",
       "2                           0  \n",
       "3                           1  \n",
       "4                           0  \n",
       "\n",
       "[5 rows x 45 columns]"
      ]
     },
     "execution_count": 21,
     "metadata": {},
     "output_type": "execute_result"
    }
   ],
   "source": [
    "X = pd.concat([num_cols_scaled, dummy_features], axis=1)\n",
    "X_origin = data.iloc[:, :-1]\n",
    "X.head()"
   ]
  },
  {
   "cell_type": "code",
   "execution_count": 22,
   "id": "a75cc390",
   "metadata": {},
   "outputs": [
    {
     "data": {
      "text/plain": [
       "((5282, 45), (5282, 19))"
      ]
     },
     "execution_count": 22,
     "metadata": {},
     "output_type": "execute_result"
    }
   ],
   "source": [
    "y = data[target_col]\n",
    "X.shape, X_origin.shape"
   ]
  },
  {
   "cell_type": "code",
   "execution_count": 23,
   "id": "c3a09579",
   "metadata": {},
   "outputs": [],
   "source": [
    "from sklearn.linear_model import LogisticRegression, LogisticRegressionCV\n",
    "from sklearn.model_selection import train_test_split, GridSearchCV\n",
    "from sklearn.preprocessing import StandardScaler, RobustScaler, LabelEncoder, OneHotEncoder\n",
    "from sklearn.pipeline import make_pipeline\n",
    "from sklearn.model_selection import RandomizedSearchCV"
   ]
  },
  {
   "cell_type": "code",
   "execution_count": 24,
   "id": "73d5b138",
   "metadata": {},
   "outputs": [],
   "source": [
    "X_train, X_test, y_train, y_test = train_test_split(X.values, y.values, \n",
    "                                                    train_size=0.8,\n",
    "                                                    random_state=42)"
   ]
  },
  {
   "cell_type": "code",
   "execution_count": 25,
   "id": "ea4742bd",
   "metadata": {},
   "outputs": [],
   "source": [
    "def search_and_draw(X, y, model, param_name, grid, param_scale, draw=True):\n",
    "    parameters = {param_name: grid}\n",
    "        \n",
    "    CV_model = GridSearchCV(estimator=model, \n",
    "                            param_grid=parameters,\n",
    "                            cv=5, \n",
    "                            scoring='roc_auc',\n",
    "                            n_jobs=-1, \n",
    "                            verbose=10,\n",
    "                            return_train_score = True)\n",
    "    CV_model.fit(X, y)\n",
    "    print(CV_model.best_params_)\n",
    "    means = CV_model.cv_results_['mean_test_score']\n",
    "    error = CV_model.cv_results_['std_test_score']\n",
    "    \n",
    "    if draw:\n",
    "        plt.figure(figsize=(15,8))\n",
    "        plt.title('choose '+ param_name)\n",
    "\n",
    "\n",
    "        if (param_scale == 'log'):\n",
    "            plt.xscale('log')\n",
    "\n",
    "        plt.plot(grid, means, label='mean values of score', color='red', lw=3)\n",
    "\n",
    "        plt.fill_between(grid, means - 2 * error, means + 2 * error, \n",
    "                         color='green', label='filled area between errors', alpha=0.5)\n",
    "        \n",
    "        legend_box = plt.legend(framealpha=1).get_frame()\n",
    "        legend_box.set_facecolor(\"white\")\n",
    "        legend_box.set_edgecolor(\"black\")\n",
    "        plt.xlabel('parameter')\n",
    "        plt.ylabel('roc_auc')\n",
    "        plt.show()\n",
    "        \n",
    "    "
   ]
  },
  {
   "cell_type": "code",
   "execution_count": 26,
   "id": "5f1ad509",
   "metadata": {},
   "outputs": [],
   "source": [
    "models = [LogisticRegression()]\n",
    "param_names = ['C']\n",
    "grids = [np.array([0.001, 0.01, 0.1, 1, 10, 100])]\n",
    "param_scales = ['ordinary']"
   ]
  },
  {
   "cell_type": "code",
   "execution_count": 27,
   "id": "09ae755d",
   "metadata": {
    "scrolled": false
   },
   "outputs": [
    {
     "name": "stdout",
     "output_type": "stream",
     "text": [
      "Fitting 5 folds for each of 6 candidates, totalling 30 fits\n",
      "{'C': 10.0}\n"
     ]
    },
    {
     "name": "stderr",
     "output_type": "stream",
     "text": [
      "C:\\ProgramData\\Anaconda3\\lib\\site-packages\\sklearn\\linear_model\\_logistic.py:814: ConvergenceWarning: lbfgs failed to converge (status=1):\n",
      "STOP: TOTAL NO. of ITERATIONS REACHED LIMIT.\n",
      "\n",
      "Increase the number of iterations (max_iter) or scale the data as shown in:\n",
      "    https://scikit-learn.org/stable/modules/preprocessing.html\n",
      "Please also refer to the documentation for alternative solver options:\n",
      "    https://scikit-learn.org/stable/modules/linear_model.html#logistic-regression\n",
      "  n_iter_i = _check_optimize_result(\n"
     ]
    },
    {
     "data": {
      "image/png": "[encoded data removed]",
      "text/plain": [
       "<Figure size 1080x576 with 1 Axes>"
      ]
     },
     "metadata": {
      "needs_background": "light"
     },
     "output_type": "display_data"
    }
   ],
   "source": [
    "for model, param_name, grid, param_scale in zip(models, \n",
    "                                                param_names, \n",
    "                                                grids, \n",
    "                                                param_scales):\n",
    "    search_and_draw(X_train, y_train, model, param_name, grid, param_scale)"
   ]
  },
  {
   "cell_type": "code",
   "execution_count": 28,
   "id": "039ce200",
   "metadata": {
    "scrolled": false
   },
   "outputs": [
    {
     "name": "stderr",
     "output_type": "stream",
     "text": [
      "C:\\ProgramData\\Anaconda3\\lib\\site-packages\\sklearn\\linear_model\\_logistic.py:814: ConvergenceWarning: lbfgs failed to converge (status=1):\n",
      "STOP: TOTAL NO. of ITERATIONS REACHED LIMIT.\n",
      "\n",
      "Increase the number of iterations (max_iter) or scale the data as shown in:\n",
      "    https://scikit-learn.org/stable/modules/preprocessing.html\n",
      "Please also refer to the documentation for alternative solver options:\n",
      "    https://scikit-learn.org/stable/modules/linear_model.html#logistic-regression\n",
      "  n_iter_i = _check_optimize_result(\n"
     ]
    }
   ],
   "source": [
    "model = LogisticRegression(C = 10)\n",
    "model.fit(X_train, y_train)\n",
    "y_train_predicted = model.predict_proba(X_train)[:, 1]\n",
    "y_test_predicted = model.predict_proba(X_test)[:, 1]"
   ]
  },
  {
   "cell_type": "code",
   "execution_count": 29,
   "id": "5cc936ab",
   "metadata": {
    "scrolled": true
   },
   "outputs": [
    {
     "data": {
      "image/png": "[encoded data removed]",
      "text/plain": [
       "<Figure size 1440x720 with 1 Axes>"
      ]
     },
     "metadata": {
      "needs_background": "light"
     },
     "output_type": "display_data"
    }
   ],
   "source": [
    "train_auc = roc_auc_score(y_train, y_train_predicted)\n",
    "test_auc = roc_auc_score(y_test, y_test_predicted)\n",
    "\n",
    "plt.figure(figsize=(20,10))\n",
    "plt.plot(*roc_curve(y_train, y_train_predicted)[:2], label='train AUC={:.4f}'.format(train_auc))\n",
    "plt.plot(*roc_curve(y_test, y_test_predicted)[:2], label='test AUC={:.4f}'.format(test_auc))\n",
    "legend_box = plt.legend(fontsize='large', framealpha=1).get_frame()\n",
    "legend_box.set_facecolor(\"white\")\n",
    "legend_box.set_edgecolor(\"black\")\n",
    "plt.plot(np.linspace(0,1,100), np.linspace(0,1,100))\n",
    "plt.show()"
   ]
  },
  {
   "cell_type": "code",
   "execution_count": 30,
   "id": "ec087510",
   "metadata": {},
   "outputs": [],
   "source": [
    "#Лучшее качество AUC = 0.8272 с параметром  С = 10"
   ]
  },
  {
   "cell_type": "code",
   "execution_count": 31,
   "id": "c9fe840a",
   "metadata": {},
   "outputs": [],
   "source": [
    "best_model1 = model"
   ]
  },
  {
   "cell_type": "code",
   "execution_count": 32,
   "id": "f8852666",
   "metadata": {},
   "outputs": [
    {
     "name": "stderr",
     "output_type": "stream",
     "text": [
      "C:\\ProgramData\\Anaconda3\\lib\\site-packages\\sklearn\\utils\\validation.py:1688: FutureWarning: Feature names only support names that are all strings. Got feature names with dtypes: ['int', 'str']. An error will be raised in 1.2.\n",
      "  warnings.warn(\n"
     ]
    }
   ],
   "source": [
    "X_test = pd.read_csv('C:/Users/Михаил/Downloads/test.csv')\n",
    "X_test['TotalSpent'] = data['TotalSpent'].replace(' ')\n",
    "num_cols_scaled1 = pd.DataFrame(scaler.fit_transform(X_test[num_cols]))\n",
    "dummy_features1 = pd.get_dummies(X_test[cat_cols])\n",
    "X= pd.concat([num_cols_scaled1, dummy_features1], axis=1)\n",
    "submission = pd.read_csv('C:/Users/Михаил/Downloads/submission.csv')\n",
    "submission['Churn'] = best_model1.predict(X)\n",
    "submission = submission.set_index('Id')\n",
    "submission.to_csv('C:/Users/Михаил/Downloads/my_submission1.csv')"
   ]
  },
  {
   "cell_type": "code",
   "execution_count": 33,
   "id": "c9a08b80",
   "metadata": {},
   "outputs": [],
   "source": [
    "import catboost"
   ]
  },
  {
   "cell_type": "code",
   "execution_count": 34,
   "id": "eccfad2c",
   "metadata": {},
   "outputs": [],
   "source": [
    "X_train_origin, X_test_origin, _, _ = train_test_split(X_origin.values, y.values, \n",
    "                                                       train_size=0.8, \n",
    "                                                       random_state=42)"
   ]
  },
  {
   "cell_type": "code",
   "execution_count": 35,
   "id": "3d016ae2",
   "metadata": {},
   "outputs": [],
   "source": [
    "categorical_indices = np.array([3, 4, 5, 6, 7, 8, 9, 10, 11, 12, 13, 14, 15, 16, 17, 18])\n",
    "categorial_data = data[data.columns[categorical_indices]]"
   ]
  },
  {
   "cell_type": "code",
   "execution_count": 36,
   "id": "eb10abcb",
   "metadata": {
    "scrolled": true
   },
   "outputs": [
    {
     "name": "stdout",
     "output_type": "stream",
     "text": [
      "0:\tlearn: 0.6644809\ttotal: 179ms\tremaining: 17.7s\n",
      "1:\tlearn: 0.6390114\ttotal: 189ms\tremaining: 9.27s\n",
      "2:\tlearn: 0.6162058\ttotal: 198ms\tremaining: 6.4s\n",
      "3:\tlearn: 0.5964218\ttotal: 206ms\tremaining: 4.95s\n",
      "4:\tlearn: 0.5804490\ttotal: 215ms\tremaining: 4.08s\n",
      "5:\tlearn: 0.5654853\ttotal: 222ms\tremaining: 3.48s\n",
      "6:\tlearn: 0.5511764\ttotal: 231ms\tremaining: 3.07s\n",
      "7:\tlearn: 0.5387564\ttotal: 242ms\tremaining: 2.78s\n",
      "8:\tlearn: 0.5282176\ttotal: 251ms\tremaining: 2.54s\n",
      "9:\tlearn: 0.5181906\ttotal: 260ms\tremaining: 2.34s\n",
      "10:\tlearn: 0.5088778\ttotal: 266ms\tremaining: 2.15s\n",
      "11:\tlearn: 0.5001343\ttotal: 272ms\tremaining: 1.99s\n",
      "12:\tlearn: 0.4929526\ttotal: 275ms\tremaining: 1.84s\n",
      "13:\tlearn: 0.4858851\ttotal: 281ms\tremaining: 1.73s\n",
      "14:\tlearn: 0.4789649\ttotal: 289ms\tremaining: 1.64s\n",
      "15:\tlearn: 0.4725398\ttotal: 297ms\tremaining: 1.56s\n",
      "16:\tlearn: 0.4669528\ttotal: 305ms\tremaining: 1.49s\n",
      "17:\tlearn: 0.4617860\ttotal: 313ms\tremaining: 1.43s\n",
      "18:\tlearn: 0.4580666\ttotal: 317ms\tremaining: 1.35s\n",
      "19:\tlearn: 0.4539553\ttotal: 324ms\tremaining: 1.3s\n",
      "20:\tlearn: 0.4504027\ttotal: 333ms\tremaining: 1.25s\n",
      "21:\tlearn: 0.4466696\ttotal: 341ms\tremaining: 1.21s\n",
      "22:\tlearn: 0.4425049\ttotal: 349ms\tremaining: 1.17s\n",
      "23:\tlearn: 0.4391989\ttotal: 356ms\tremaining: 1.13s\n",
      "24:\tlearn: 0.4358100\ttotal: 365ms\tremaining: 1.1s\n",
      "25:\tlearn: 0.4328638\ttotal: 376ms\tremaining: 1.07s\n",
      "26:\tlearn: 0.4303797\ttotal: 381ms\tremaining: 1.03s\n",
      "27:\tlearn: 0.4277525\ttotal: 389ms\tremaining: 1s\n",
      "28:\tlearn: 0.4257967\ttotal: 395ms\tremaining: 967ms\n",
      "29:\tlearn: 0.4234225\ttotal: 402ms\tremaining: 939ms\n",
      "30:\tlearn: 0.4214091\ttotal: 408ms\tremaining: 908ms\n",
      "31:\tlearn: 0.4198139\ttotal: 413ms\tremaining: 877ms\n",
      "32:\tlearn: 0.4179875\ttotal: 420ms\tremaining: 853ms\n",
      "33:\tlearn: 0.4165695\ttotal: 429ms\tremaining: 832ms\n",
      "34:\tlearn: 0.4150446\ttotal: 436ms\tremaining: 811ms\n",
      "35:\tlearn: 0.4136961\ttotal: 444ms\tremaining: 790ms\n",
      "36:\tlearn: 0.4124094\ttotal: 452ms\tremaining: 769ms\n",
      "37:\tlearn: 0.4114434\ttotal: 457ms\tremaining: 745ms\n",
      "38:\tlearn: 0.4103400\ttotal: 464ms\tremaining: 726ms\n",
      "39:\tlearn: 0.4090096\ttotal: 472ms\tremaining: 708ms\n",
      "40:\tlearn: 0.4079427\ttotal: 479ms\tremaining: 690ms\n",
      "41:\tlearn: 0.4071135\ttotal: 484ms\tremaining: 669ms\n",
      "42:\tlearn: 0.4062249\ttotal: 492ms\tremaining: 652ms\n",
      "43:\tlearn: 0.4056829\ttotal: 496ms\tremaining: 631ms\n",
      "44:\tlearn: 0.4047911\ttotal: 503ms\tremaining: 615ms\n",
      "45:\tlearn: 0.4039144\ttotal: 510ms\tremaining: 599ms\n",
      "46:\tlearn: 0.4031187\ttotal: 518ms\tremaining: 584ms\n",
      "47:\tlearn: 0.4027361\ttotal: 525ms\tremaining: 569ms\n",
      "48:\tlearn: 0.4020882\ttotal: 532ms\tremaining: 554ms\n",
      "49:\tlearn: 0.4013069\ttotal: 540ms\tremaining: 540ms\n",
      "50:\tlearn: 0.4006700\ttotal: 549ms\tremaining: 527ms\n",
      "51:\tlearn: 0.3999780\ttotal: 557ms\tremaining: 514ms\n",
      "52:\tlearn: 0.3992651\ttotal: 564ms\tremaining: 501ms\n",
      "53:\tlearn: 0.3987838\ttotal: 571ms\tremaining: 486ms\n",
      "54:\tlearn: 0.3978818\ttotal: 578ms\tremaining: 473ms\n",
      "55:\tlearn: 0.3975843\ttotal: 583ms\tremaining: 458ms\n",
      "56:\tlearn: 0.3972634\ttotal: 588ms\tremaining: 444ms\n",
      "57:\tlearn: 0.3964013\ttotal: 596ms\tremaining: 432ms\n",
      "58:\tlearn: 0.3959707\ttotal: 604ms\tremaining: 419ms\n",
      "59:\tlearn: 0.3955218\ttotal: 611ms\tremaining: 407ms\n",
      "60:\tlearn: 0.3950579\ttotal: 618ms\tremaining: 395ms\n",
      "61:\tlearn: 0.3947961\ttotal: 626ms\tremaining: 384ms\n",
      "62:\tlearn: 0.3947729\ttotal: 633ms\tremaining: 372ms\n",
      "63:\tlearn: 0.3943586\ttotal: 641ms\tremaining: 361ms\n",
      "64:\tlearn: 0.3935743\ttotal: 649ms\tremaining: 349ms\n",
      "65:\tlearn: 0.3930101\ttotal: 656ms\tremaining: 338ms\n",
      "66:\tlearn: 0.3925248\ttotal: 664ms\tremaining: 327ms\n",
      "67:\tlearn: 0.3920106\ttotal: 672ms\tremaining: 316ms\n",
      "68:\tlearn: 0.3915639\ttotal: 680ms\tremaining: 305ms\n",
      "69:\tlearn: 0.3912086\ttotal: 688ms\tremaining: 295ms\n",
      "70:\tlearn: 0.3911556\ttotal: 696ms\tremaining: 284ms\n",
      "71:\tlearn: 0.3909831\ttotal: 704ms\tremaining: 274ms\n",
      "72:\tlearn: 0.3904171\ttotal: 712ms\tremaining: 263ms\n",
      "73:\tlearn: 0.3897255\ttotal: 720ms\tremaining: 253ms\n",
      "74:\tlearn: 0.3895494\ttotal: 735ms\tremaining: 245ms\n",
      "75:\tlearn: 0.3893780\ttotal: 739ms\tremaining: 233ms\n",
      "76:\tlearn: 0.3892100\ttotal: 747ms\tremaining: 223ms\n",
      "77:\tlearn: 0.3889974\ttotal: 754ms\tremaining: 213ms\n",
      "78:\tlearn: 0.3887593\ttotal: 762ms\tremaining: 203ms\n",
      "79:\tlearn: 0.3887213\ttotal: 770ms\tremaining: 193ms\n",
      "80:\tlearn: 0.3883957\ttotal: 778ms\tremaining: 182ms\n",
      "81:\tlearn: 0.3882273\ttotal: 785ms\tremaining: 172ms\n",
      "82:\tlearn: 0.3878368\ttotal: 793ms\tremaining: 162ms\n",
      "83:\tlearn: 0.3877108\ttotal: 800ms\tremaining: 152ms\n",
      "84:\tlearn: 0.3874683\ttotal: 808ms\tremaining: 143ms\n",
      "85:\tlearn: 0.3874560\ttotal: 814ms\tremaining: 133ms\n",
      "86:\tlearn: 0.3872011\ttotal: 822ms\tremaining: 123ms\n",
      "87:\tlearn: 0.3871915\ttotal: 824ms\tremaining: 112ms\n",
      "88:\tlearn: 0.3870927\ttotal: 832ms\tremaining: 103ms\n",
      "89:\tlearn: 0.3869258\ttotal: 839ms\tremaining: 93.3ms\n",
      "90:\tlearn: 0.3869121\ttotal: 848ms\tremaining: 83.9ms\n",
      "91:\tlearn: 0.3866329\ttotal: 856ms\tremaining: 74.4ms\n",
      "92:\tlearn: 0.3865342\ttotal: 863ms\tremaining: 65ms\n",
      "93:\tlearn: 0.3863849\ttotal: 867ms\tremaining: 55.4ms\n",
      "94:\tlearn: 0.3861512\ttotal: 875ms\tremaining: 46ms\n",
      "95:\tlearn: 0.3858570\ttotal: 882ms\tremaining: 36.8ms\n",
      "96:\tlearn: 0.3856763\ttotal: 890ms\tremaining: 27.5ms\n",
      "97:\tlearn: 0.3856267\ttotal: 897ms\tremaining: 18.3ms\n",
      "98:\tlearn: 0.3853588\ttotal: 905ms\tremaining: 9.14ms\n",
      "99:\tlearn: 0.3851393\ttotal: 912ms\tremaining: 0us\n"
     ]
    },
    {
     "data": {
      "text/plain": [
       "{'learning_rate': 0.07785714285714285, 'n_estimators': 100.0}"
      ]
     },
     "execution_count": 36,
     "metadata": {},
     "output_type": "execute_result"
    }
   ],
   "source": [
    "model = catboost.CatBoostClassifier(cat_features=categorical_indices)\n",
    "params = {\"n_estimators\": np.array(np.linspace(100, 600, 5)), 'learning_rate':np.array(np.linspace(0.01, 0.2, 15))}\n",
    "clf = GridSearchCV(model, params, scoring='roc_auc', n_jobs=-1)\n",
    "clf.fit(X_train_origin, y_train)\n",
    "clf.best_params_"
   ]
  },
  {
   "cell_type": "code",
   "execution_count": 37,
   "id": "d8f2ec6d",
   "metadata": {},
   "outputs": [],
   "source": [
    "y_train_predicted = clf.predict_proba(X_train_origin)[:, 1]\n",
    "y_test_predicted = clf.predict_proba(X_test_origin)[:, 1]"
   ]
  },
  {
   "cell_type": "code",
   "execution_count": 38,
   "id": "700d768c",
   "metadata": {
    "scrolled": true
   },
   "outputs": [
    {
     "name": "stdout",
     "output_type": "stream",
     "text": [
      "0:\tlearn: 0.6644809\ttotal: 8.03ms\tremaining: 795ms\n",
      "1:\tlearn: 0.6390114\ttotal: 16ms\tremaining: 784ms\n",
      "2:\tlearn: 0.6162058\ttotal: 24.1ms\tremaining: 778ms\n",
      "3:\tlearn: 0.5964218\ttotal: 32ms\tremaining: 767ms\n",
      "4:\tlearn: 0.5804490\ttotal: 40.4ms\tremaining: 767ms\n",
      "5:\tlearn: 0.5654853\ttotal: 47.9ms\tremaining: 750ms\n",
      "6:\tlearn: 0.5511764\ttotal: 56.1ms\tremaining: 745ms\n",
      "7:\tlearn: 0.5387564\ttotal: 64.1ms\tremaining: 737ms\n",
      "8:\tlearn: 0.5282176\ttotal: 72.1ms\tremaining: 729ms\n",
      "9:\tlearn: 0.5181906\ttotal: 80.3ms\tremaining: 723ms\n",
      "10:\tlearn: 0.5088778\ttotal: 84.7ms\tremaining: 685ms\n",
      "11:\tlearn: 0.5001343\ttotal: 88.9ms\tremaining: 652ms\n",
      "12:\tlearn: 0.4929526\ttotal: 92ms\tremaining: 615ms\n",
      "13:\tlearn: 0.4858851\ttotal: 97.5ms\tremaining: 599ms\n",
      "14:\tlearn: 0.4789649\ttotal: 105ms\tremaining: 596ms\n",
      "15:\tlearn: 0.4725398\ttotal: 113ms\tremaining: 595ms\n",
      "16:\tlearn: 0.4669528\ttotal: 121ms\tremaining: 592ms\n",
      "17:\tlearn: 0.4617860\ttotal: 129ms\tremaining: 590ms\n",
      "18:\tlearn: 0.4580666\ttotal: 133ms\tremaining: 566ms\n",
      "19:\tlearn: 0.4539553\ttotal: 141ms\tremaining: 563ms\n",
      "20:\tlearn: 0.4504027\ttotal: 150ms\tremaining: 563ms\n",
      "21:\tlearn: 0.4466696\ttotal: 160ms\tremaining: 566ms\n",
      "22:\tlearn: 0.4425049\ttotal: 168ms\tremaining: 562ms\n",
      "23:\tlearn: 0.4391989\ttotal: 175ms\tremaining: 555ms\n",
      "24:\tlearn: 0.4358100\ttotal: 184ms\tremaining: 553ms\n",
      "25:\tlearn: 0.4328638\ttotal: 195ms\tremaining: 555ms\n",
      "26:\tlearn: 0.4303797\ttotal: 201ms\tremaining: 543ms\n",
      "27:\tlearn: 0.4277525\ttotal: 208ms\tremaining: 535ms\n",
      "28:\tlearn: 0.4257967\ttotal: 215ms\tremaining: 525ms\n",
      "29:\tlearn: 0.4234225\ttotal: 223ms\tremaining: 520ms\n",
      "30:\tlearn: 0.4214091\ttotal: 229ms\tremaining: 509ms\n",
      "31:\tlearn: 0.4198139\ttotal: 236ms\tremaining: 501ms\n",
      "32:\tlearn: 0.4179875\ttotal: 244ms\tremaining: 495ms\n",
      "33:\tlearn: 0.4165695\ttotal: 253ms\tremaining: 490ms\n",
      "34:\tlearn: 0.4150446\ttotal: 260ms\tremaining: 483ms\n",
      "35:\tlearn: 0.4136961\ttotal: 268ms\tremaining: 476ms\n",
      "36:\tlearn: 0.4124094\ttotal: 276ms\tremaining: 470ms\n",
      "37:\tlearn: 0.4114434\ttotal: 281ms\tremaining: 459ms\n",
      "38:\tlearn: 0.4103400\ttotal: 289ms\tremaining: 453ms\n",
      "39:\tlearn: 0.4090096\ttotal: 297ms\tremaining: 446ms\n",
      "40:\tlearn: 0.4079427\ttotal: 305ms\tremaining: 439ms\n",
      "41:\tlearn: 0.4071135\ttotal: 311ms\tremaining: 430ms\n",
      "42:\tlearn: 0.4062249\ttotal: 319ms\tremaining: 422ms\n",
      "43:\tlearn: 0.4056829\ttotal: 323ms\tremaining: 411ms\n",
      "44:\tlearn: 0.4047911\ttotal: 331ms\tremaining: 405ms\n",
      "45:\tlearn: 0.4039144\ttotal: 339ms\tremaining: 398ms\n",
      "46:\tlearn: 0.4031187\ttotal: 347ms\tremaining: 391ms\n",
      "47:\tlearn: 0.4027361\ttotal: 355ms\tremaining: 385ms\n",
      "48:\tlearn: 0.4020882\ttotal: 363ms\tremaining: 377ms\n",
      "49:\tlearn: 0.4013069\ttotal: 371ms\tremaining: 371ms\n",
      "50:\tlearn: 0.4006700\ttotal: 380ms\tremaining: 365ms\n",
      "51:\tlearn: 0.3999780\ttotal: 388ms\tremaining: 358ms\n",
      "52:\tlearn: 0.3992651\ttotal: 396ms\tremaining: 351ms\n",
      "53:\tlearn: 0.3987838\ttotal: 402ms\tremaining: 343ms\n",
      "54:\tlearn: 0.3978818\ttotal: 411ms\tremaining: 336ms\n",
      "55:\tlearn: 0.3975843\ttotal: 416ms\tremaining: 327ms\n",
      "56:\tlearn: 0.3972634\ttotal: 421ms\tremaining: 318ms\n",
      "57:\tlearn: 0.3964013\ttotal: 430ms\tremaining: 311ms\n",
      "58:\tlearn: 0.3959707\ttotal: 437ms\tremaining: 304ms\n",
      "59:\tlearn: 0.3955218\ttotal: 445ms\tremaining: 296ms\n",
      "60:\tlearn: 0.3950579\ttotal: 453ms\tremaining: 290ms\n",
      "61:\tlearn: 0.3947961\ttotal: 460ms\tremaining: 282ms\n",
      "62:\tlearn: 0.3947729\ttotal: 469ms\tremaining: 275ms\n",
      "63:\tlearn: 0.3943586\ttotal: 476ms\tremaining: 268ms\n",
      "64:\tlearn: 0.3935743\ttotal: 484ms\tremaining: 261ms\n",
      "65:\tlearn: 0.3930101\ttotal: 492ms\tremaining: 254ms\n",
      "66:\tlearn: 0.3925248\ttotal: 500ms\tremaining: 246ms\n",
      "67:\tlearn: 0.3920106\ttotal: 509ms\tremaining: 239ms\n",
      "68:\tlearn: 0.3915639\ttotal: 517ms\tremaining: 232ms\n",
      "69:\tlearn: 0.3912086\ttotal: 525ms\tremaining: 225ms\n",
      "70:\tlearn: 0.3911556\ttotal: 533ms\tremaining: 218ms\n",
      "71:\tlearn: 0.3909831\ttotal: 540ms\tremaining: 210ms\n",
      "72:\tlearn: 0.3904171\ttotal: 549ms\tremaining: 203ms\n",
      "73:\tlearn: 0.3897255\ttotal: 558ms\tremaining: 196ms\n",
      "74:\tlearn: 0.3895494\ttotal: 566ms\tremaining: 189ms\n",
      "75:\tlearn: 0.3893780\ttotal: 569ms\tremaining: 180ms\n",
      "76:\tlearn: 0.3892100\ttotal: 577ms\tremaining: 172ms\n",
      "77:\tlearn: 0.3889974\ttotal: 585ms\tremaining: 165ms\n",
      "78:\tlearn: 0.3887593\ttotal: 593ms\tremaining: 158ms\n",
      "79:\tlearn: 0.3887213\ttotal: 600ms\tremaining: 150ms\n",
      "80:\tlearn: 0.3883957\ttotal: 607ms\tremaining: 142ms\n",
      "81:\tlearn: 0.3882273\ttotal: 615ms\tremaining: 135ms\n",
      "82:\tlearn: 0.3878368\ttotal: 623ms\tremaining: 128ms\n",
      "83:\tlearn: 0.3877108\ttotal: 631ms\tremaining: 120ms\n",
      "84:\tlearn: 0.3874683\ttotal: 638ms\tremaining: 113ms\n",
      "85:\tlearn: 0.3874560\ttotal: 645ms\tremaining: 105ms\n",
      "86:\tlearn: 0.3872011\ttotal: 652ms\tremaining: 97.5ms\n",
      "87:\tlearn: 0.3871915\ttotal: 655ms\tremaining: 89.4ms\n",
      "88:\tlearn: 0.3870927\ttotal: 663ms\tremaining: 81.9ms\n",
      "89:\tlearn: 0.3869258\ttotal: 670ms\tremaining: 74.4ms\n",
      "90:\tlearn: 0.3869121\ttotal: 677ms\tremaining: 67ms\n",
      "91:\tlearn: 0.3866329\ttotal: 685ms\tremaining: 59.6ms\n",
      "92:\tlearn: 0.3865342\ttotal: 692ms\tremaining: 52.1ms\n",
      "93:\tlearn: 0.3863849\ttotal: 697ms\tremaining: 44.5ms\n",
      "94:\tlearn: 0.3861512\ttotal: 705ms\tremaining: 37.1ms\n",
      "95:\tlearn: 0.3858570\ttotal: 712ms\tremaining: 29.7ms\n",
      "96:\tlearn: 0.3856763\ttotal: 720ms\tremaining: 22.3ms\n",
      "97:\tlearn: 0.3856267\ttotal: 727ms\tremaining: 14.8ms\n",
      "98:\tlearn: 0.3853588\ttotal: 735ms\tremaining: 7.42ms\n",
      "99:\tlearn: 0.3851393\ttotal: 744ms\tremaining: 0us\n"
     ]
    }
   ],
   "source": [
    "boosting_model = catboost.CatBoostClassifier(n_estimators=100,\n",
    "                                             learning_rate = 0.07785714285714285, \n",
    "                                             cat_features=categorical_indices)\n",
    "\n",
    "boosting_model.fit(X_train_origin, y_train)\n",
    "\n",
    "y_train_predicted = boosting_model.predict_proba(X_train_origin)[:, 1]\n",
    "y_test_predicted = boosting_model.predict_proba(X_test_origin)[:, 1]"
   ]
  },
  {
   "cell_type": "code",
   "execution_count": 39,
   "id": "de26259e",
   "metadata": {},
   "outputs": [
    {
     "data": {
      "image/png": "[encoded data removed]",
      "text/plain": [
       "<Figure size 720x504 with 1 Axes>"
      ]
     },
     "metadata": {
      "needs_background": "light"
     },
     "output_type": "display_data"
    }
   ],
   "source": [
    "train_auc = roc_auc_score(y_train, y_train_predicted)\n",
    "test_auc = roc_auc_score(y_test, y_test_predicted)\n",
    "\n",
    "plt.figure(figsize=(10,7))\n",
    "plt.plot(*roc_curve(y_train, y_train_predicted)[:2], label='train AUC={:.4f}'.format(train_auc))\n",
    "plt.plot(*roc_curve(y_test, y_test_predicted)[:2], label='test AUC={:.4f}'.format(test_auc))\n",
    "legend_box = plt.legend(fontsize='large', framealpha=1).get_frame()\n",
    "legend_box.set_facecolor(\"white\")\n",
    "legend_box.set_edgecolor(\"black\")\n",
    "plt.plot(np.linspace(0,1,100), np.linspace(0,1,100))\n",
    "plt.show()"
   ]
  },
  {
   "cell_type": "code",
   "execution_count": 40,
   "id": "78112494",
   "metadata": {},
   "outputs": [],
   "source": [
    "#Лучшее качество AUC = 0.8266 с параметром  learning_rate = 0.07785714285714285, n_estimators = 100"
   ]
  },
  {
   "cell_type": "code",
   "execution_count": 41,
   "id": "d7b25c1e",
   "metadata": {},
   "outputs": [],
   "source": [
    "best_model = boosting_model"
   ]
  },
  {
   "cell_type": "code",
   "execution_count": 42,
   "id": "d361d7bf",
   "metadata": {
    "scrolled": true
   },
   "outputs": [],
   "source": [
    "X_test = pd.read_csv('C:/Users/Михаил/Downloads/test.csv')\n",
    "submission = pd.read_csv('C:/Users/Михаил/Downloads/submission.csv')\n",
    "submission['Churn'] = best_model.predict(X_test)\n",
    "submission = submission.set_index('Id')\n",
    "submission.to_csv('C:/Users/Михаил/Downloads/my_submission.csv')"
   ]
  },
  {
   "cell_type": "code",
   "execution_count": 44,
   "id": "ff3dda48",
   "metadata": {},
   "outputs": [],
   "source": [
    "#На кагле показатель лучше у catboost, хотя тут оценка выше у LogisticRegression"
   ]
  }
 ],
 "metadata": {
  "kernelspec": {
   "display_name": "Python 3 (ipykernel)",
   "language": "python",
   "name": "python3"
  },
  "language_info": {
   "codemirror_mode": {
    "name": "ipython",
    "version": 3
   },
   "file_extension": ".py",
   "mimetype": "text/x-python",
   "name": "python",
   "nbconvert_exporter": "python",
   "pygments_lexer": "ipython3",
   "version": "3.9.12"
  }
 },
 "nbformat": 4,
 "nbformat_minor": 5
}
